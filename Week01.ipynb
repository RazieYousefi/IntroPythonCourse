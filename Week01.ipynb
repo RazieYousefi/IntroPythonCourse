{
 "cells": [
  {
   "cell_type": "markdown",
   "metadata": {},
   "source": [
    "### **Week 1: Introduction to Python**\n",
    "**Objective**: Familiarize students with Python, its environment, and basic syntax.\n"
   ]
  },
  {
   "cell_type": "markdown",
   "metadata": {},
   "source": [
    "\n",
    "#### **Concept: What is Python?**\n",
    "- Python is a popular, high-level programming language known for its readability and simplicity. It is widely used for web development, data analysis, artificial intelligence, scientific computing, and more.\n",
    "\n",
    "---\n"
   ]
  },
  {
   "cell_type": "markdown",
   "metadata": {},
   "source": [
    "\n",
    "### **2. Setting Up Python**\n",
    "#### **Concept: Setting Up Python Environment (Anaconda, Jupyter Notebooks)**\n",
    "- **Anaconda**: A popular distribution for Python that comes with useful packages and tools.\n",
    "- **Jupyter Notebooks**: An interactive environment where students can write code, run it, and see results immediately.\n"
   ]
  },
  {
   "cell_type": "markdown",
   "metadata": {},
   "source": [
    "\n",
    "#### **Example Walkthrough**:\n",
    "1. Guide students on how to install **Anaconda**.\n",
    "2. Open **Jupyter Notebook** from the Anaconda Navigator.\n",
    "3. Show how to create a new notebook.\n",
    "\n"
   ]
  },
  {
   "cell_type": "markdown",
   "metadata": {},
   "source": [
    "\n",
    "\n",
    "\n",
    "### **3. Basic Python Syntax**\n",
    "#### **Concept: Variables and Data Types**\n",
    "- **Variables**: Containers for storing data.\n",
    "- **Data Types**: Integers, floats (decimals), strings (text), lists (collections), and dictionaries (key-value pairs).\n"
   ]
  },
  {
   "cell_type": "markdown",
   "metadata": {},
   "source": [
    "\n",
    "#### **Examples**:\n",
    "1. **Creating Variables**:\n",
    "   \n"
   ]
  },
  {
   "cell_type": "code",
   "execution_count": 6,
   "metadata": {},
   "outputs": [],
   "source": [
    "# Storing a number in a variable\n",
    "x = 5\n",
    "# Storing text (string) in a variable\n",
    "name = \"John\"\n"
   ]
  },
  {
   "cell_type": "markdown",
   "metadata": {},
   "source": [
    "\n",
    "2. **Simple Print Statements**:\n"
   ]
  },
  {
   "cell_type": "code",
   "execution_count": 7,
   "metadata": {},
   "outputs": [
    {
     "name": "stdout",
     "output_type": "stream",
     "text": [
      "Hello, World!\n",
      "5\n",
      "John\n"
     ]
    }
   ],
   "source": [
    "print(\"Hello, World!\")   # Output: Hello, World!\n",
    "print(x)                 # Output: 5\n",
    "print(name)              # Output: John\n"
   ]
  },
  {
   "cell_type": "markdown",
   "metadata": {},
   "source": [
    "3. **Basic Arithmetic Operations**:   "
   ]
  },
  {
   "cell_type": "code",
   "execution_count": 8,
   "metadata": {},
   "outputs": [
    {
     "name": "stdout",
     "output_type": "stream",
     "text": [
      "13\n",
      "7\n",
      "30\n",
      "3.3333333333333335\n",
      "1\n"
     ]
    }
   ],
   "source": [
    "a = 10\n",
    "b = 3\n",
    "\n",
    "print(a + b)   # Output: 13 (Addition)\n",
    "print(a - b)   # Output: 7  (Subtraction)\n",
    "print(a * b)   # Output: 30 (Multiplication)\n",
    "print(a / b)   # Output: 3.33 (Division)\n",
    "print(a % b)   # Output: 1 (Modulus)\n"
   ]
  },
  {
   "cell_type": "markdown",
   "metadata": {},
   "source": [
    "4. **Checking Data Types**:\n"
   ]
  },
  {
   "cell_type": "code",
   "execution_count": 9,
   "metadata": {},
   "outputs": [
    {
     "name": "stdout",
     "output_type": "stream",
     "text": [
      "<class 'int'>\n",
      "<class 'str'>\n"
     ]
    }
   ],
   "source": [
    "print(type(x))        # Output: <class 'int'>\n",
    "print(type(name))     # Output: <class 'str'>\n"
   ]
  },
  {
   "cell_type": "markdown",
   "metadata": {},
   "source": [
    "#### **Hands-On Exercise**:\n",
    "- Ask students to create variables for:\n",
    "  - Their name (as a string)\n",
    "  - Their age (as an integer)\n",
    "  - The price of an item (as a float)\n",
    "  - Print all three variables using `print()`.\n",
    "\n"
   ]
  },
  {
   "cell_type": "markdown",
   "metadata": {},
   "source": [
    "\n",
    "\n",
    "### **4. Working with Lists**\n",
    "#### **Concept: List Data Type**\n",
    "- **Lists**: A collection of items stored in a single variable."
   ]
  },
  {
   "cell_type": "markdown",
   "metadata": {},
   "source": [
    "#### **Examples**:\n",
    "1. **Creating and Accessing Lists**:\n"
   ]
  },
  {
   "cell_type": "code",
   "execution_count": 13,
   "metadata": {},
   "outputs": [
    {
     "name": "stdout",
     "output_type": "stream",
     "text": [
      "apple\n",
      "cherry\n"
     ]
    }
   ],
   "source": [
    "fruits = [\"apple\", \"banana\", \"cherry\"]\n",
    "print(fruits[0])   # Output: apple\n",
    "print(fruits[2])   # Output: banana"
   ]
  },
  {
   "cell_type": "markdown",
   "metadata": {},
   "source": [
    "\n",
    "\n",
    "2. **Modifying a List**:\n"
   ]
  },
  {
   "cell_type": "code",
   "execution_count": 14,
   "metadata": {},
   "outputs": [
    {
     "name": "stdout",
     "output_type": "stream",
     "text": [
      "['apple', 'orange', 'cherry']\n"
     ]
    }
   ],
   "source": [
    "fruits[1] = \"orange\"\n",
    "print(fruits)   # Output: ['apple', 'orange', 'cherry']\n"
   ]
  },
  {
   "cell_type": "markdown",
   "metadata": {},
   "source": [
    "3. **List Operations**:\n"
   ]
  },
  {
   "cell_type": "code",
   "execution_count": 15,
   "metadata": {},
   "outputs": [
    {
     "name": "stdout",
     "output_type": "stream",
     "text": [
      "['apple', 'orange', 'cherry', 'mango']\n",
      "['apple', 'orange', 'mango']\n"
     ]
    }
   ],
   "source": [
    "fruits.append(\"mango\")    # Adds 'mango' to the list\n",
    "print(fruits)             # Output: ['apple', 'orange', 'cherry', 'mango']\n",
    "\n",
    "fruits.remove(\"cherry\")   # Removes 'cherry' from the list\n",
    "print(fruits)             # Output: ['apple', 'orange', 'mango']\n"
   ]
  },
  {
   "cell_type": "markdown",
   "metadata": {},
   "source": [
    "#### **Hands-On Exercise**:\n",
    "- Create a list of three countries you want to visit. Change one of the countries and add a new country at the end.\n",
    "\n"
   ]
  },
  {
   "cell_type": "markdown",
   "metadata": {},
   "source": [
    "### **5. Introduction to Dictionaries**\n",
    "#### **Concept: Dictionary Data Type**\n",
    "- **Dictionaries**: Key-value pairs used to store data where each value is associated with a unique key.\n"
   ]
  },
  {
   "cell_type": "markdown",
   "metadata": {},
   "source": [
    "\n",
    "#### **Examples**:\n",
    "1. **Creating and Accessing Dictionaries**:\n"
   ]
  },
  {
   "cell_type": "code",
   "execution_count": 16,
   "metadata": {},
   "outputs": [
    {
     "name": "stdout",
     "output_type": "stream",
     "text": [
      "Alice\n",
      "25\n"
     ]
    }
   ],
   "source": [
    "student = {\n",
    "    \"name\": \"Alice\",\n",
    "    \"age\": 25,\n",
    "    \"major\": \"Biology\"\n",
    "}\n",
    "\n",
    "print(student[\"name\"])   # Output: Alice\n",
    "print(student[\"age\"])    # Output: 25\n"
   ]
  },
  {
   "cell_type": "markdown",
   "metadata": {},
   "source": [
    "\n",
    "\n",
    "2. **Modifying a Dictionary**:\n",
    "   ```python\n",
    "   student[\"age\"] = 26       # Updates the age\n",
    "   student[\"GPA\"] = 3.8      # Adds a new key-value pair\n",
    "   print(student)            # Output: {'name': 'Alice', 'age': 26, 'major': 'Biology', 'GPA': 3.8}\n",
    "   ```\n",
    "\n",
    "#### **Hands-On Exercise**:\n",
    "- Create a dictionary for your favorite book with the following keys: `\"title\"`, `\"author\"`, and `\"year\"`. Update the year, and add a new key called `\"genre\"`.\n",
    "\n",
    "---\n",
    "\n",
    "### **6. Writing Simple Python Code**\n",
    "#### **Concept: Writing and Running Python Code**\n",
    "- Introduce how Python code is executed line-by-line in Jupyter Notebooks.\n",
    "  \n",
    "#### **Example**: **Simple Hello World Program**:\n",
    "1. **Hello World**:\n",
    "   ```python\n",
    "   print(\"Hello, World!\")   # Output: Hello, World!\n",
    "   ```\n",
    "\n",
    "#### **Example**: **Basic Calculations**:\n",
    "1. **Performing Calculations**:\n",
    "   ```python\n",
    "   number1 = 15\n",
    "   number2 = 4\n",
    "\n",
    "   sum = number1 + number2\n",
    "   print(\"Sum:\", sum)       # Output: Sum: 19\n",
    "   ```\n",
    "\n",
    "#### **Hands-On Exercise**:\n",
    "- Write code that asks the user for two numbers, adds them, and prints the result.\n",
    "\n",
    "---\n",
    "\n",
    "### **7. Bonus (Optional): Input from Users**\n",
    "#### **Concept: Using `input()` Function**\n",
    "- Teach students how to accept user input and use it in their code.\n",
    "\n",
    "#### **Example**:\n",
    "```python\n",
    "name = input(\"Enter your name: \")\n",
    "print(\"Hello, \" + name + \"!\")\n",
    "```\n",
    "\n",
    "---\n",
    "\n",
    "### **Practical Assignment**:\n",
    "- Write a Python script that:\n",
    "  1. Asks the user for their name.\n",
    "  2. Asks the user for their age.\n",
    "  3. Prints a message that includes their name and their age (e.g., \"Hello, John! You are 25 years old.\").\n",
    "\n",
    "---\n",
    "\n",
    "### **Recap of Week 1**:\n",
    "- **Key Concepts**: Variables, data types, lists, dictionaries, basic operations.\n",
    "- **Practice**: Students should be comfortable writing simple Python scripts, printing values, and performing basic calculations.\n",
    "\n",
    "---\n",
    "\n",
    "This structure ensures students grasp Python fundamentals while engaging in hands-on activities. Would you like to adjust or expand any part of this week?"
   ]
  },
  {
   "cell_type": "code",
   "execution_count": null,
   "metadata": {},
   "outputs": [],
   "source": []
  }
 ],
 "metadata": {
  "kernelspec": {
   "display_name": "Python 3",
   "language": "python",
   "name": "python3"
  },
  "language_info": {
   "codemirror_mode": {
    "name": "ipython",
    "version": 3
   },
   "file_extension": ".py",
   "mimetype": "text/x-python",
   "name": "python",
   "nbconvert_exporter": "python",
   "pygments_lexer": "ipython3",
   "version": "3.9.12"
  }
 },
 "nbformat": 4,
 "nbformat_minor": 2
}
