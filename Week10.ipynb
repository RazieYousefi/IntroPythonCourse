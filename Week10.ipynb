{
 "cells": [
  {
   "cell_type": "markdown",
   "metadata": {},
   "source": [
    "### **Week 10: Advanced Data Manipulation with Pandas**\n",
    "**Objective**: Teach students how to manage complex data manipulations using Pandas, covering merging, joining, pivoting, and reshaping datasets."
   ]
  },
  {
   "cell_type": "markdown",
   "metadata": {},
   "source": [
    "### **1. Merging, Joining, and Concatenating DataFrames**\n",
    "#### **Concept**: Understanding how to combine data from multiple sources is essential for data analysis. These operations allow students to handle complex datasets with ease."
   ]
  },
  {
   "cell_type": "markdown",
   "metadata": {},
   "source": [
    "#### **Topics & Key Concepts**:\n",
    "- **Merging DataFrames**:\n",
    "  - How to merge two DataFrames using a common column (similar to SQL `JOIN`).\n",
    "  - Types of merges: Inner, Outer, Left, Right.\n",
    "  \n",
    "- **Joining DataFrames**:\n",
    "  - Joining on index instead of columns.\n",
    "  \n",
    "- **Concatenating DataFrames**:\n",
    "  - Appending rows or columns to an existing DataFrame."
   ]
  },
  {
   "cell_type": "markdown",
   "metadata": {},
   "source": [
    "#### **Examples**:\n",
    "1. **Merging Two Biological Datasets**:\n",
    "   - **Scenario**: Combine a dataset of patients with their gene expression data."
   ]
  },
  {
   "cell_type": "code",
   "execution_count": 1,
   "metadata": {},
   "outputs": [
    {
     "name": "stdout",
     "output_type": "stream",
     "text": [
      "   Patient_ID   Name  Age  Gene_A  Gene_B\n",
      "0           1  Alice   34    0.76     1.2\n",
      "1           2    Bob   45    0.82     0.5\n",
      "2           3  Carol   23    0.67     1.1\n"
     ]
    }
   ],
   "source": [
    "import pandas as pd\n",
    "\n",
    "# Patient demographic data\n",
    "patients = pd.DataFrame({\n",
    "    'Patient_ID': [1, 2, 3, 4],\n",
    "    'Name': ['Alice', 'Bob', 'Carol', 'David'],\n",
    "    'Age': [34, 45, 23, 54]\n",
    "})\n",
    "\n",
    "# Gene expression data\n",
    "gene_expression = pd.DataFrame({\n",
    "    'Patient_ID': [1, 2, 3, 5],\n",
    "    'Gene_A': [0.76, 0.82, 0.67, 0.89],\n",
    "    'Gene_B': [1.2, 0.5, 1.1, 0.6]\n",
    "})\n",
    "\n",
    "# Merging based on 'Patient_ID'\n",
    "merged_df = pd.merge(patients, gene_expression, on='Patient_ID', how='inner')\n",
    "print(merged_df)"
   ]
  },
  {
   "cell_type": "markdown",
   "metadata": {},
   "source": [
    "**Explanation**: This example merges patient data with their gene expression values.\n",
    "\n",
    "2. **Concatenating Chemistry Experimental Results**:\n",
    "   - **Scenario**: Append new experimental results to an existing dataset."
   ]
  },
  {
   "cell_type": "code",
   "execution_count": 2,
   "metadata": {},
   "outputs": [
    {
     "name": "stdout",
     "output_type": "stream",
     "text": [
      "   Sample_ID  pH_Level\n",
      "0        101       7.1\n",
      "1        102       6.8\n",
      "2        103       7.4\n",
      "3        104       7.0\n",
      "4        105       6.9\n"
     ]
    }
   ],
   "source": [
    "# First dataset\n",
    "experiment1 = pd.DataFrame({\n",
    "    'Sample_ID': [101, 102, 103],\n",
    "    'pH_Level': [7.1, 6.8, 7.4]\n",
    "})\n",
    "\n",
    "# New dataset to append\n",
    "experiment2 = pd.DataFrame({\n",
    "    'Sample_ID': [104, 105],\n",
    "    'pH_Level': [7.0, 6.9]\n",
    "})\n",
    "\n",
    "# Concatenate the datasets\n",
    "combined_df = pd.concat([experiment1, experiment2], ignore_index=True)\n",
    "print(combined_df)"
   ]
  },
  {
   "cell_type": "markdown",
   "metadata": {},
   "source": [
    "**Explanation**: Combines two sets of pH measurements into a single dataset."
   ]
  },
  {
   "cell_type": "markdown",
   "metadata": {},
   "source": [
    "#### **Hands-On Exercise**:\n",
    "- Merge a dataset of drug prescriptions with patient demographic information.\n",
    "- Concatenate multiple datasets of chemical compound properties into a unified dataset.\n",
    "\n",
    "---"
   ]
  },
  {
   "cell_type": "markdown",
   "metadata": {},
   "source": [
    "### **2. Pivot Tables and Cross-Tabulation**\n",
    "#### **Concept**: Pivot tables allow summarizing and aggregating data. Cross-tabulation helps to view the frequency distribution between two or more variables.\n",
    "\n",
    "#### **Topics & Key Concepts**:\n",
    "- **Pivot Tables**: Creating pivot tables to summarize data by groups.\n",
    "- **Cross-tabulation**: Using `pd.crosstab` to create contingency tables."
   ]
  },
  {
   "cell_type": "markdown",
   "metadata": {},
   "source": [
    "#### **Examples**:\n",
    "1. **Creating a Pivot Table for Clinical Trial Data**:\n",
    "   - **Scenario**: Summarize patient outcomes by treatment type and age group."
   ]
  },
  {
   "cell_type": "code",
   "execution_count": 3,
   "metadata": {},
   "outputs": [
    {
     "name": "stdout",
     "output_type": "stream",
     "text": [
      "Age_Group     18-25      26-35      36-45\n",
      "Treatment                                \n",
      "Drug A     Improved  No Change   Improved\n",
      "Drug B     Improved   Worsened        NaN\n",
      "Drug C          NaN        NaN  No Change\n"
     ]
    }
   ],
   "source": [
    "# Clinical trial data\n",
    "clinical_data = pd.DataFrame({\n",
    "    'Treatment': ['Drug A', 'Drug A', 'Drug B', 'Drug B', 'Drug A', 'Drug C'],\n",
    "    'Age_Group': ['18-25', '26-35', '18-25', '26-35', '36-45', '36-45'],\n",
    "    'Outcome': ['Improved', 'No Change', 'Improved', 'Worsened', 'Improved', 'No Change']\n",
    "})\n",
    "\n",
    "# Creating a pivot table\n",
    "pivot = clinical_data.pivot_table(index='Treatment', columns='Age_Group', \n",
    "                                    values='Outcome', aggfunc=lambda x: x.mode()[0])\n",
    "print(pivot)"
   ]
  },
  {
   "cell_type": "markdown",
   "metadata": {},
   "source": [
    "**Explanation**: This pivot table shows the most common outcome for each age group under different treatments."
   ]
  },
  {
   "cell_type": "markdown",
   "metadata": {},
   "source": [
    "2. **Cross-Tabulation of Chemical Reactions**:\n",
    "   - **Scenario**: Analyze how often certain reagents are used in successful reactions."
   ]
  },
  {
   "cell_type": "code",
   "execution_count": 4,
   "metadata": {},
   "outputs": [
    {
     "name": "stdout",
     "output_type": "stream",
     "text": [
      "Result   Failure  Success\n",
      "Reagent                  \n",
      "H2SO4          0        1\n",
      "HCl            0        2\n",
      "NaOH           2        0\n"
     ]
    }
   ],
   "source": [
    "# Chemical reaction data\n",
    "reactions = pd.DataFrame({\n",
    "    'Reaction_ID': [1, 2, 3, 4, 5],\n",
    "    'Reagent': ['HCl', 'NaOH', 'HCl', 'H2SO4', 'NaOH'],\n",
    "    'Result': ['Success', 'Failure', 'Success', 'Success', 'Failure']\n",
    "})\n",
    "\n",
    "# Cross-tabulation\n",
    "reagent_results = pd.crosstab(reactions['Reagent'], reactions['Result'])\n",
    "print(reagent_results)"
   ]
  },
  {
   "cell_type": "markdown",
   "metadata": {},
   "source": [
    "**Explanation**: Displays the frequency of each reagent used in successful and failed reactions."
   ]
  },
  {
   "cell_type": "markdown",
   "metadata": {},
   "source": [
    "#### **Hands-On Exercise**:\n",
    "- Create a pivot table summarizing the average glucose levels for different age groups in a patient dataset.\n",
    "- Use cross-tabulation to analyze the frequency of different symptoms reported across various patient groups.\n",
    "\n",
    "---"
   ]
  },
  {
   "cell_type": "markdown",
   "metadata": {},
   "source": [
    "### **3. Reshaping Data (Stack, Unstack, Melt)**\n",
    "#### **Concept**: Reshaping allows transforming data from a wide format to a long format or vice versa. This is useful when adjusting the data structure for different types of analysis."
   ]
  },
  {
   "cell_type": "markdown",
   "metadata": {},
   "source": [
    "#### **Topics & Key Concepts**:\n",
    "- **Stack/Unstack**: Pivoting the level of row/column indices.\n",
    "- **Melt**: Transforming a wide DataFrame into a long format.\n",
    "- **Wide vs. Long Format**: Understanding when to use each data shape.\n",
    "\n",
    "#### **Examples**:\n",
    "1. **Melting a DataFrame of Enzyme Activity**:\n",
    "   - **Scenario**: Convert a wide-format DataFrame of enzyme activity into a long format for easier analysis."
   ]
  },
  {
   "cell_type": "code",
   "execution_count": 5,
   "metadata": {},
   "outputs": [
    {
     "name": "stdout",
     "output_type": "stream",
     "text": [
      "   Sample_ID    Enzyme  Activity\n",
      "0          1  Enzyme_A      0.80\n",
      "1          2  Enzyme_A      0.90\n",
      "2          3  Enzyme_A      0.85\n",
      "3          1  Enzyme_B      0.60\n",
      "4          2  Enzyme_B      0.70\n",
      "5          3  Enzyme_B      0.75\n"
     ]
    }
   ],
   "source": [
    "# Enzyme activity data (wide format)\n",
    "enzyme_data = pd.DataFrame({\n",
    "    'Sample_ID': [1, 2, 3],\n",
    "    'Enzyme_A': [0.8, 0.9, 0.85],\n",
    "    'Enzyme_B': [0.6, 0.7, 0.75]\n",
    "})\n",
    "\n",
    "# Melting to long format\n",
    "long_format = enzyme_data.melt(id_vars=['Sample_ID'], \n",
    "                                var_name='Enzyme', value_name='Activity')\n",
    "print(long_format)"
   ]
  },
  {
   "cell_type": "markdown",
   "metadata": {},
   "source": [
    "**Explanation**: Converts the enzyme activity data to a long format where each row corresponds to a specific enzyme's measurement."
   ]
  },
  {
   "cell_type": "markdown",
   "metadata": {},
   "source": [
    "2. **Stacking and Unstacking with a Chemical Experiment**:\n",
    "   - **Scenario**: Change a chemical dataset's structure for specific visualizations."
   ]
  },
  {
   "cell_type": "code",
   "execution_count": 6,
   "metadata": {},
   "outputs": [
    {
     "name": "stdout",
     "output_type": "stream",
     "text": [
      "Experiment 1  Trial 1  Concentration    0.10\n",
      "                       pH               7.00\n",
      "              Trial 2  Concentration    0.20\n",
      "                       pH               6.50\n",
      "Experiment 2  Trial 1  Concentration    0.15\n",
      "                       pH               7.20\n",
      "              Trial 2  Concentration    0.25\n",
      "                       pH               6.80\n",
      "dtype: float64\n",
      "                            Trial 1  Trial 2\n",
      "Experiment 1 Concentration     0.10     0.20\n",
      "             pH                7.00     6.50\n",
      "Experiment 2 Concentration     0.15     0.25\n",
      "             pH                7.20     6.80\n"
     ]
    }
   ],
   "source": [
    "# Experiment data (multi-index)\n",
    "chemical_data = pd.DataFrame({\n",
    "    'Concentration': [0.1, 0.2, 0.15, 0.25],\n",
    "    'pH': [7.0, 6.5, 7.2, 6.8]\n",
    "}, index=[['Experiment 1', 'Experiment 1', 'Experiment 2', 'Experiment 2'], \n",
    "            ['Trial 1', 'Trial 2', 'Trial 1', 'Trial 2']])\n",
    "\n",
    "# Stack the data\n",
    "stacked_data = chemical_data.stack()\n",
    "print(stacked_data)\n",
    "\n",
    "# Unstack the data\n",
    "unstacked_data = stacked_data.unstack(level=1)\n",
    "print(unstacked_data)"
   ]
  },
  {
   "cell_type": "markdown",
   "metadata": {},
   "source": [
    "**Explanation**: Demonstrates how stacking/unstacking manipulates the DataFrame's structure."
   ]
  },
  {
   "cell_type": "markdown",
   "metadata": {},
   "source": [
    "#### **Hands-On Exercise**:\n",
    "- *Melt a dataset of gene expression for multiple genes into a long format.*\n",
    "- *Use stack/unstack to reshape a clinical trial dataset that measures drug effectiveness across multiple time points.*\n",
    "\n",
    "---"
   ]
  },
  {
   "cell_type": "markdown",
   "metadata": {},
   "source": [
    "\n",
    "### **4. Practical Assignment**\n",
    "1. **Dataset Overview**:\n",
    "   - **Dataset**: A combined dataset of patient lab results, including different tests (e.g., blood work, enzyme levels) and demographics.\n",
    "   \n",
    "2. **Data Manipulation Tasks**:\n",
    "   - *Merge patient demographic data with their lab results.*\n",
    "   - *Create a pivot table showing the average enzyme levels for different age groups.*\n",
    "   - *Reshape the dataset from wide to long format for a specific analysis.*\n",
    "\n",
    "3. **Report Findings**:\n",
    "   - *Summarize the dataset by performing group-based analysis and displaying key statistics.*\n",
    "   - *Discuss how reshaping data affected the analysis and what insights it provided.*\n",
    "\n",
    "4. **Presentation**:\n",
    "   - *Visualize the merged dataset using plots.*\n",
    "   - *Discuss observations from the pivot tables and reshaped data.*\n"
   ]
  },
  {
   "cell_type": "markdown",
   "metadata": {},
   "source": [
    "\n",
    "\n",
    "### **Week Recap**\n",
    "- **Concepts Mastered**: Advanced merging, pivot tables, reshaping data.\n",
    "- **Skills Gained**: Ability to manage and manipulate complex datasets, transforming data structures for better analysis.\n"
   ]
  }
 ],
 "metadata": {
  "kernelspec": {
   "display_name": "Python 3",
   "language": "python",
   "name": "python3"
  },
  "language_info": {
   "codemirror_mode": {
    "name": "ipython",
    "version": 3
   },
   "file_extension": ".py",
   "mimetype": "text/x-python",
   "name": "python",
   "nbconvert_exporter": "python",
   "pygments_lexer": "ipython3",
   "version": "3.9.12"
  }
 },
 "nbformat": 4,
 "nbformat_minor": 2
}
