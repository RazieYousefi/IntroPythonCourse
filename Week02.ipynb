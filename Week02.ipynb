{
 "cells": [
  {
   "cell_type": "markdown",
   "metadata": {},
   "source": [
    "### **Week 2: Data Structures in Python**\n",
    "**Objective**: Introduce key Python data structures that are commonly used in data analysis, focusing on how to access, update, and iterate over them."
   ]
  },
  {
   "cell_type": "markdown",
   "metadata": {},
   "source": [
    "### **1. Introduction to Data Structures**\n",
    "#### **Concept**: What are data structures?\n",
    "- **Data Structures** are containers that organize and store data. In Python, the most common ones are:\n",
    "  - **Lists**: Ordered, mutable sequences.\n",
    "  - **Tuples**: Ordered, immutable sequences.\n",
    "  - **Dictionaries**: Key-value pairs.\n",
    "  - **Sets**: Unordered collections of unique items."
   ]
  },
  {
   "cell_type": "markdown",
   "metadata": {},
   "source": [
    "### **2. Lists in Python**\n",
    "#### **Concept**: Introduction to Lists\n",
    "- **Lists** are used to store multiple items in a single variable. Lists are ordered and mutable (i.e., you can change their contents).\n",
    "\n",
    "#### **Examples**:\n",
    "1. **Creating a List**:"
   ]
  },
  {
   "cell_type": "code",
   "execution_count": 3,
   "metadata": {},
   "outputs": [
    {
     "name": "stdout",
     "output_type": "stream",
     "text": [
      "[85, 90, 78, 92, 88]\n"
     ]
    }
   ],
   "source": [
    "grades = [85, 90, 78, 92, 88]\n",
    "print(grades)  # Output: [85, 90, 78, 92, 88]"
   ]
  },
  {
   "cell_type": "markdown",
   "metadata": {},
   "source": [
    "\n",
    "\n",
    "2. **Accessing List Elements**:\n",
    "   - **Indexing** starts from 0."
   ]
  },
  {
   "cell_type": "code",
   "execution_count": 4,
   "metadata": {},
   "outputs": [
    {
     "name": "stdout",
     "output_type": "stream",
     "text": [
      "85\n",
      "78\n"
     ]
    }
   ],
   "source": [
    "print(grades[0])  # Output: 85\n",
    "print(grades[2])  # Output: 78"
   ]
  },
  {
   "cell_type": "markdown",
   "metadata": {},
   "source": [
    "\n",
    "3. **Updating List Elements**:\n",
    "   ```python\n",
    "   grades[2] = 80\n",
    "   print(grades)  # Output: [85, 90, 80, 92, 88]\n",
    "   ```\n"
   ]
  },
  {
   "cell_type": "markdown",
   "metadata": {},
   "source": [
    "\n",
    "4. **Adding Elements to a List**:\n",
    "   ```python\n",
    "   grades.append(95)  # Adds 95 to the end of the list\n",
    "   print(grades)      # Output: [85, 90, 80, 92, 88, 95]\n",
    "   ```\n"
   ]
  },
  {
   "cell_type": "markdown",
   "metadata": {},
   "source": [
    "\n",
    "5. **Removing Elements from a List**:\n",
    "   ```python\n",
    "   grades.remove(88)  # Removes the first occurrence of 88\n",
    "   print(grades)      # Output: [85, 90, 80, 92, 95]\n",
    "   ```\n"
   ]
  },
  {
   "cell_type": "markdown",
   "metadata": {},
   "source": [
    "\n",
    "#### **Hands-On Exercise**:\n",
    "- Create a list of your five favorite movies, print the first and last movie, and then add a new movie to the list.\n",
    "\n"
   ]
  },
  {
   "cell_type": "markdown",
   "metadata": {},
   "source": [
    "\n",
    "\n",
    "### **3. Tuples in Python**\n",
    "#### **Concept**: Introduction to Tuples\n",
    "- **Tuples** are similar to lists but are **immutable**, meaning once created, they cannot be changed (useful when you want to ensure data remains constant).\n"
   ]
  },
  {
   "cell_type": "markdown",
   "metadata": {},
   "source": [
    "\n",
    "#### **Examples**:\n",
    "1. **Creating a Tuple**:\n",
    "   ```python\n",
    "   coordinates = (5, 10)\n",
    "   print(coordinates)  # Output: (5, 10)\n",
    "   ```\n"
   ]
  },
  {
   "cell_type": "markdown",
   "metadata": {},
   "source": [
    "\n",
    "2. **Accessing Tuple Elements**:\n",
    "   ```python\n",
    "   print(coordinates[0])  # Output: 5\n",
    "   print(coordinates[1])  # Output: 10\n",
    "   ```\n"
   ]
  },
  {
   "cell_type": "markdown",
   "metadata": {},
   "source": [
    "#### **Difference Between List and Tuple**:\n",
    "- A **list** can be changed:\n",
    "   ```python\n",
    "   grades[0] = 90  # This works for lists\n",
    "  "
   ]
  },
  {
   "cell_type": "markdown",
   "metadata": {},
   "source": [
    "\n",
    "- A **tuple** cannot:\n",
    "   ```python\n",
    "   coordinates[0] = 7  # This will raise an error because tuples are immutable\n",
    "   ```\n"
   ]
  },
  {
   "cell_type": "markdown",
   "metadata": {},
   "source": [
    "\n",
    "#### **Hands-On Exercise**:\n",
    "- Create a tuple representing the length and width of a rectangle and print the area.\n",
    "\n"
   ]
  },
  {
   "cell_type": "markdown",
   "metadata": {},
   "source": [
    "### **4. Dictionaries in Python**\n",
    "#### **Concept**: Introduction to Dictionaries\n",
    "- **Dictionaries** store data in **key-value pairs**. Keys must be unique, while values can be duplicated.\n"
   ]
  },
  {
   "cell_type": "markdown",
   "metadata": {},
   "source": [
    "\n",
    "#### **Examples**:\n",
    "1. **Creating a Dictionary**:\n",
    "   ```python\n",
    "   student = {\"name\": \"John\", \"age\": 21, \"major\": \"Computer Science\"}\n",
    "   print(student)  # Output: {'name': 'John', 'age': 21, 'major': 'Computer Science'}\n",
    "   ```\n",
    "\n"
   ]
  },
  {
   "cell_type": "markdown",
   "metadata": {},
   "source": [
    "\n",
    "2. **Accessing Dictionary Values**:\n",
    "   ```python\n",
    "   print(student[\"name\"])  # Output: John\n",
    "   print(student[\"age\"])   # Output: 21\n",
    "   ```\n"
   ]
  },
  {
   "cell_type": "markdown",
   "metadata": {},
   "source": [
    "\n",
    "3. **Adding/Updating Dictionary Values**:\n",
    "   ```python\n",
    "   student[\"GPA\"] = 3.8     # Adds a new key-value pair\n",
    "   student[\"age\"] = 22      # Updates the value of 'age'\n",
    "   print(student)           # Output: {'name': 'John', 'age': 22, 'major': 'Computer Science', 'GPA': 3.8}\n",
    "   ```\n"
   ]
  },
  {
   "cell_type": "markdown",
   "metadata": {},
   "source": [
    "\n",
    "4. **Removing Elements from a Dictionary**:\n",
    "   ```python\n",
    "   del student[\"major\"]     # Removes the 'major' key-value pair\n",
    "   print(student)           # Output: {'name': 'John', 'age': 22, 'GPA': 3.8}\n",
    "   ```\n"
   ]
  },
  {
   "cell_type": "markdown",
   "metadata": {},
   "source": [
    "\n",
    "#### **Hands-On Exercise**:\n",
    "- Create a dictionary with your own name, age, and favorite hobby. Then, add a new key for your favorite color.\n",
    "\n"
   ]
  },
  {
   "cell_type": "markdown",
   "metadata": {},
   "source": [
    "### **5. Sets in Python**\n",
    "#### **Concept**: Introduction to Sets\n",
    "- **Sets** are unordered collections of unique elements. They are useful when you need to store only distinct items.\n"
   ]
  },
  {
   "cell_type": "markdown",
   "metadata": {},
   "source": [
    "#### **Examples**:\n",
    "1. **Creating a Set**:\n",
    "   ```python\n",
    "   fruit_set = {\"apple\", \"banana\", \"cherry\", \"apple\"}  # Duplicates will be ignored\n",
    "   print(fruit_set)  # Output: {'apple', 'banana', 'cherry'}\n",
    "   ```\n"
   ]
  },
  {
   "cell_type": "markdown",
   "metadata": {},
   "source": [
    "\n",
    "2. **Adding Elements to a Set**:\n",
    "   ```python\n",
    "   fruit_set.add(\"orange\")\n",
    "   print(fruit_set)  # Output: {'apple', 'banana', 'cherry', 'orange'}\n",
    "   ```\n"
   ]
  },
  {
   "cell_type": "markdown",
   "metadata": {},
   "source": [
    "\n",
    "3. **Removing Elements from a Set**:\n",
    "   ```python\n",
    "   fruit_set.remove(\"banana\")\n",
    "   print(fruit_set)  # Output: {'apple', 'cherry', 'orange'}\n",
    "   ```\n"
   ]
  },
  {
   "cell_type": "markdown",
   "metadata": {},
   "source": [
    "\n",
    "4. **Set Operations (Union and Intersection)**:\n",
    "   ```python\n",
    "   set1 = {\"apple\", \"banana\", \"cherry\"}\n",
    "   set2 = {\"banana\", \"cherry\", \"date\"}\n",
    "\n",
    "   # Union (all unique elements from both sets)\n",
    "   print(set1.union(set2))  # Output: {'apple', 'banana', 'cherry', 'date'}\n",
    "\n",
    "   # Intersection (common elements)\n",
    "   print(set1.intersection(set2))  # Output: {'banana', 'cherry'}\n",
    "   ```\n"
   ]
  },
  {
   "cell_type": "markdown",
   "metadata": {},
   "source": [
    "\n",
    "#### **Hands-On Exercise**:\n",
    "- Create a set of your three favorite fruits. Add one new fruit to the set, then remove one.\n",
    "\n"
   ]
  },
  {
   "cell_type": "markdown",
   "metadata": {},
   "source": [
    "\n",
    "\n",
    "### **6. Accessing, Updating, and Iterating Over Data Structures**\n",
    "#### **Concept**: Iterating Over Lists and Dictionaries\n"
   ]
  },
  {
   "cell_type": "markdown",
   "metadata": {},
   "source": [
    "\n",
    "1. **Iterating Over a List**:\n",
    "   ```python\n",
    "   grades = [85, 90, 80, 92, 95]\n",
    "\n",
    "   for grade in grades:\n",
    "       print(grade)\n",
    "   ```\n"
   ]
  },
  {
   "cell_type": "markdown",
   "metadata": {},
   "source": [
    "\n",
    "2. **Iterating Over a Dictionary**:\n",
    "   ```python\n",
    "   student = {\"name\": \"John\", \"age\": 22, \"GPA\": 3.8}\n",
    "\n",
    "   for key, value in student.items():\n",
    "       print(key, \":\", value)\n",
    "   ```\n"
   ]
  },
  {
   "cell_type": "markdown",
   "metadata": {},
   "source": [
    "\n",
    "#### **Hands-On Exercise**:\n",
    "- Create a list of five numbers, iterate over the list, and print each number squared. Then, create a dictionary of three items, iterate over the dictionary, and print each key-value pair.\n",
    "\n"
   ]
  },
  {
   "cell_type": "markdown",
   "metadata": {},
   "source": [
    "\n",
    "\n",
    "### **7. Practical Example: Student Grades**\n",
    "#### **Practical Assignment**:\n",
    "1. **Creating a List of Student Grades**:\n",
    "   ```python\n",
    "   grades = [85, 90, 78, 92, 88]\n",
    "   print(\"Grades:\", grades)\n",
    "   ```\n"
   ]
  },
  {
   "cell_type": "markdown",
   "metadata": {},
   "source": [
    "\n",
    "2. **Updating a Grade**:\n",
    "   ```python\n",
    "   grades[2] = 80  # Update the third grade\n",
    "   print(\"Updated Grades:\", grades)\n",
    "   ```\n"
   ]
  },
  {
   "cell_type": "markdown",
   "metadata": {},
   "source": [
    "\n",
    "3. **Calculating the Average Grade**:\n",
    "   ```python\n",
    "   average_grade = sum(grades) / len(grades)\n",
    "   print(\"Average Grade:\", average_grade)\n",
    "   ```\n"
   ]
  },
  {
   "cell_type": "markdown",
   "metadata": {},
   "source": [
    "\n",
    "#### **Hands-On Exercise**:\n",
    "- Ask students to create a list of their grades in five subjects, update one grade, and then calculate their average."
   ]
  },
  {
   "cell_type": "markdown",
   "metadata": {},
   "source": [
    "\n",
    "### **Recap of Week 2**:\n",
    "- **Key Concepts**: Lists, tuples, dictionaries, and sets. Students should understand how to create, access, update, and iterate over these data structures.\n",
    "- **Practice**: By the end of this week, students will be comfortable manipulating basic data structures, which is fundamental for future data analysis tasks.\n",
    "\n"
   ]
  },
  {
   "cell_type": "code",
   "execution_count": null,
   "metadata": {},
   "outputs": [],
   "source": []
  }
 ],
 "metadata": {
  "kernelspec": {
   "display_name": "Python 3",
   "language": "python",
   "name": "python3"
  },
  "language_info": {
   "codemirror_mode": {
    "name": "ipython",
    "version": 3
   },
   "file_extension": ".py",
   "mimetype": "text/x-python",
   "name": "python",
   "nbconvert_exporter": "python",
   "pygments_lexer": "ipython3",
   "version": "3.9.12"
  }
 },
 "nbformat": 4,
 "nbformat_minor": 2
}
