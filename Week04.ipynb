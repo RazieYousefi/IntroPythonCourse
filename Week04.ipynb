{
 "cells": [
  {
   "cell_type": "markdown",
   "metadata": {},
   "source": [
    "### **Week 4: Basic Data Manipulation with Pandas**\n",
    "**Objective**: Teach students how to filter, select, sort, group, and apply functions to biology and chemistry-related datasets, preparing them for practical data analysis in life sciences."
   ]
  },
  {
   "cell_type": "markdown",
   "metadata": {},
   "source": [
    "### **1. Filtering and Selecting Data in Pandas**\n",
    "#### **Concept**: Filtering rows and selecting columns\n",
    "- **Filtering** involves selecting rows that meet specific conditions.\n",
    "- **Selecting** allows you to choose columns from the DataFrame to work with.\n",
    "\n",
    "#### **Examples**:\n",
    "1. **Filtering Rows by Condition**:\n",
    "   - Using a dataset of patient blood tests with columns like `Patient_ID`, `Cholesterol`, `Blood_Pressure`, and `Blood_Sugar`:"
   ]
  },
  {
   "cell_type": "code",
   "execution_count": 1,
   "metadata": {},
   "outputs": [
    {
     "name": "stdout",
     "output_type": "stream",
     "text": [
      "   Patient_ID  Cholesterol  Blood_Pressure  Blood_Sugar\n",
      "1         102          220             130          110\n",
      "4         105          240             140          130\n"
     ]
    }
   ],
   "source": [
    "import pandas as pd\n",
    "\n",
    "data = {\n",
    "    \"Patient_ID\": [101, 102, 103, 104, 105],\n",
    "    \"Cholesterol\": [180, 220, 150, 190, 240],\n",
    "    \"Blood_Pressure\": [120, 130, 110, 125, 140],\n",
    "    \"Blood_Sugar\": [90, 110, 95, 100, 130]\n",
    "}\n",
    "df = pd.DataFrame(data)\n",
    "\n",
    "# Filtering for patients with cholesterol above 200\n",
    "high_cholesterol = df[df[\"Cholesterol\"] > 200]\n",
    "print(high_cholesterol)"
   ]
  },
  {
   "cell_type": "markdown",
   "metadata": {},
   "source": [
    "2. **Selecting Specific Columns**:\n",
    "   - Selecting only the `Patient_ID` and `Blood_Pressure` columns:"
   ]
  },
  {
   "cell_type": "code",
   "execution_count": 2,
   "metadata": {},
   "outputs": [
    {
     "name": "stdout",
     "output_type": "stream",
     "text": [
      "   Patient_ID  Blood_Pressure\n",
      "0         101             120\n",
      "1         102             130\n",
      "2         103             110\n",
      "3         104             125\n",
      "4         105             140\n"
     ]
    }
   ],
   "source": [
    "selected_columns = df[[\"Patient_ID\", \"Blood_Pressure\"]]\n",
    "print(selected_columns)"
   ]
  },
  {
   "cell_type": "markdown",
   "metadata": {},
   "source": [
    "#### **Hands-On Exercise**:\n",
    "- Filter the data to show only rows where Blood Sugar is above 100.\n",
    "- Select only the Patient_ID and Cholesterol columns from the DataFrame."
   ]
  },
  {
   "cell_type": "markdown",
   "metadata": {},
   "source": [
    "### **2. Sorting Data in Pandas**\n",
    "#### **Concept**: Sorting by column values\n",
    "- Sorting can be done in **ascending** or **descending** order to organize the data based on specific column values.\n",
    "\n",
    "#### **Examples**:\n",
    "1. **Sorting by Cholesterol in Ascending Order**:"
   ]
  },
  {
   "cell_type": "code",
   "execution_count": 3,
   "metadata": {},
   "outputs": [
    {
     "name": "stdout",
     "output_type": "stream",
     "text": [
      "   Patient_ID  Cholesterol  Blood_Pressure  Blood_Sugar\n",
      "2         103          150             110           95\n",
      "0         101          180             120           90\n",
      "3         104          190             125          100\n",
      "1         102          220             130          110\n",
      "4         105          240             140          130\n"
     ]
    }
   ],
   "source": [
    "sorted_cholesterol = df.sort_values(by=\"Cholesterol\")\n",
    "print(sorted_cholesterol)"
   ]
  },
  {
   "cell_type": "markdown",
   "metadata": {},
   "source": [
    "2. **Sorting by Blood Pressure in Descending Order**:"
   ]
  },
  {
   "cell_type": "code",
   "execution_count": 4,
   "metadata": {},
   "outputs": [
    {
     "name": "stdout",
     "output_type": "stream",
     "text": [
      "   Patient_ID  Cholesterol  Blood_Pressure  Blood_Sugar\n",
      "4         105          240             140          130\n",
      "1         102          220             130          110\n",
      "3         104          190             125          100\n",
      "0         101          180             120           90\n",
      "2         103          150             110           95\n"
     ]
    }
   ],
   "source": [
    "sorted_bp = df.sort_values(by=\"Blood_Pressure\", ascending=False)\n",
    "print(sorted_bp)"
   ]
  },
  {
   "cell_type": "markdown",
   "metadata": {},
   "source": [
    "#### **Hands-On Exercise**:\n",
    "- Sort the DataFrame by Blood Pressure in descending order.\n",
    "- Sort by Patient_ID in ascending order."
   ]
  },
  {
   "cell_type": "markdown",
   "metadata": {},
   "source": [
    "### **3. Grouping and Aggregating Data**\n",
    "#### **Concept**: Grouping data to analyze specific subsets\n",
    "- **Grouping** data allows you to create summary statistics for categories within your data, such as average values for test results across age groups.\n",
    "\n",
    "#### **Examples**:\n",
    "1. **Grouping by Blood Pressure Level and Sum Cholesterol**:\n",
    "   - First, let’s categorize patients by blood pressure levels (`Low`, `Normal`, `High`) and then analyze cholesterol:"
   ]
  },
  {
   "cell_type": "code",
   "execution_count": 18,
   "metadata": {},
   "outputs": [
    {
     "name": "stdout",
     "output_type": "stream",
     "text": [
      "BP_Category\n",
      "High      240\n",
      "Low       150\n",
      "Normal    590\n",
      "Name: Cholesterol, dtype: int64\n"
     ]
    }
   ],
   "source": [
    "def bp_category(bp):\n",
    "    if bp < 120:\n",
    "        return \"Low\"\n",
    "    elif bp <= 130:\n",
    "        return \"Normal\"\n",
    "    else:\n",
    "        return \"High\"\n",
    "\n",
    "df[\"BP_Category\"] = df[\"Blood_Pressure\"].apply(bp_category)\n",
    "total_cholesterol_by_bp = df.groupby(\"BP_Category\")[\"Cholesterol\"].sum()\n",
    "print(total_cholesterol_by_bp)"
   ]
  },
  {
   "cell_type": "markdown",
   "metadata": {},
   "source": [
    "   2. **Grouping by Blood Pressure Category and Calculating Average Blood Sugar**:"
   ]
  },
  {
   "cell_type": "code",
   "execution_count": 19,
   "metadata": {},
   "outputs": [
    {
     "name": "stdout",
     "output_type": "stream",
     "text": [
      "BP_Category\n",
      "High      130.0\n",
      "Low        95.0\n",
      "Normal    100.0\n",
      "Name: Blood_Sugar, dtype: float64\n"
     ]
    }
   ],
   "source": [
    "avg_blood_sugar_by_bp = df.groupby(\"BP_Category\")[\"Blood_Sugar\"].mean()\n",
    "print(avg_blood_sugar_by_bp)"
   ]
  },
  {
   "cell_type": "markdown",
   "metadata": {},
   "source": [
    "3. **Multiple Aggregations**:\n",
    "   - Applying multiple aggregations (e.g., sum and average) on grouped data:"
   ]
  },
  {
   "cell_type": "code",
   "execution_count": 20,
   "metadata": {},
   "outputs": [
    {
     "name": "stdout",
     "output_type": "stream",
     "text": [
      "             Cholesterol  Blood_Sugar\n",
      "BP_Category                          \n",
      "High                 240        130.0\n",
      "Low                  150         95.0\n",
      "Normal               590        100.0\n"
     ]
    }
   ],
   "source": [
    "summary = df.groupby(\"BP_Category\").agg({\"Cholesterol\": \"sum\", \"Blood_Sugar\": \"mean\"})\n",
    "print(summary)"
   ]
  },
  {
   "cell_type": "markdown",
   "metadata": {},
   "source": [
    "#### **Hands-On Exercise**:\n",
    "- Group the data by BP_Category and calculate the average Blood Pressure for each category.\n",
    "- Group by BP_Category and find the average Cholesterol level for each group.\n",
    "- Use multiple aggregations to find the sum of Cholesterol and mean of Blood Sugar by BP_Category."
   ]
  },
  {
   "cell_type": "markdown",
   "metadata": {},
   "source": [
    "### **4. Applying Functions to Datasets**\n",
    "#### **Concept**: Using custom and built-in functions on columns\n",
    "- **Apply functions** to transform or calculate new values for columns in a DataFrame.\n",
    "\n",
    "#### **Examples**:\n",
    "1. **Using `apply` to Calculate BMI based on Height and Weight**:\n",
    "   - Add height and weight columns to calculate BMI using a lambda function."
   ]
  },
  {
   "cell_type": "code",
   "execution_count": 21,
   "metadata": {},
   "outputs": [
    {
     "name": "stdout",
     "output_type": "stream",
     "text": [
      "   Patient_ID  Cholesterol  Blood_Pressure  Blood_Sugar BP_Category  Height  \\\n",
      "0         101          180             120           90      Normal    1.75   \n",
      "1         102          220             130          110      Normal    1.60   \n",
      "2         103          150             110           95         Low    1.82   \n",
      "3         104          190             125          100      Normal    1.70   \n",
      "4         105          240             140          130        High    1.65   \n",
      "\n",
      "   Weight        BMI  \n",
      "0      70  22.857143  \n",
      "1      65  25.390625  \n",
      "2      85  25.661152  \n",
      "3      75  25.951557  \n",
      "4      68  24.977043  \n"
     ]
    }
   ],
   "source": [
    "df[\"Height\"] = [1.75, 1.60, 1.82, 1.70, 1.65]  # Height in meters\n",
    "df[\"Weight\"] = [70, 65, 85, 75, 68]  # Weight in kg\n",
    "\n",
    "df[\"BMI\"] = df.apply(lambda row: row[\"Weight\"] / (row[\"Height\"] ** 2), axis=1)\n",
    "print(df)"
   ]
  },
  {
   "cell_type": "markdown",
   "metadata": {},
   "source": [
    "2. **Applying a Custom Function to Categorize Cholesterol Levels**:\n",
    "   - Create a function to label cholesterol as “High” if greater than 200, else “Normal”:"
   ]
  },
  {
   "cell_type": "code",
   "execution_count": 22,
   "metadata": {},
   "outputs": [
    {
     "name": "stdout",
     "output_type": "stream",
     "text": [
      "   Patient_ID  Cholesterol  Blood_Pressure  Blood_Sugar BP_Category  Height  \\\n",
      "0         101          180             120           90      Normal    1.75   \n",
      "1         102          220             130          110      Normal    1.60   \n",
      "2         103          150             110           95         Low    1.82   \n",
      "3         104          190             125          100      Normal    1.70   \n",
      "4         105          240             140          130        High    1.65   \n",
      "\n",
      "   Weight        BMI Cholesterol_Level  \n",
      "0      70  22.857143            Normal  \n",
      "1      65  25.390625              High  \n",
      "2      85  25.661152            Normal  \n",
      "3      75  25.951557            Normal  \n",
      "4      68  24.977043              High  \n"
     ]
    }
   ],
   "source": [
    "def categorize_cholesterol(chol):\n",
    "    return \"High\" if chol > 200 else \"Normal\"\n",
    "\n",
    "df[\"Cholesterol_Level\"] = df[\"Cholesterol\"].apply(categorize_cholesterol)\n",
    "print(df)"
   ]
  },
  {
   "cell_type": "markdown",
   "metadata": {},
   "source": [
    "#### **Hands-On Exercise**:\n",
    "- Calculate a new column `Adjusted_Blood_Sugar` by adding 10% to each Blood Sugar value?\n",
    "- Create a custom function that labels BMI as “Overweight” if above 25, and “Healthy” otherwise, and apply it to a new column?"
   ]
  },
  {
   "cell_type": "markdown",
   "metadata": {},
   "source": [
    "### **Recap of Week 4**:\n",
    "- **Key Concepts**: Filtering, selecting, sorting, grouping, and applying functions to some data.\n",
    "- **Practice**: By the end of the week, students should feel comfortable manipulating data to explore their data, calculate averages, and create custom analysis."
   ]
  }
 ],
 "metadata": {
  "kernelspec": {
   "display_name": "Python 3",
   "language": "python",
   "name": "python3"
  },
  "language_info": {
   "codemirror_mode": {
    "name": "ipython",
    "version": 3
   },
   "file_extension": ".py",
   "mimetype": "text/x-python",
   "name": "python",
   "nbconvert_exporter": "python",
   "pygments_lexer": "ipython3",
   "version": "3.9.12"
  }
 },
 "nbformat": 4,
 "nbformat_minor": 2
}
