{
 "cells": [
  {
   "cell_type": "markdown",
   "metadata": {},
   "source": [
    "\n",
    "### **Week 3: Introduction to Libraries for Data Analysis (NumPy & Pandas)**\n",
    "**Objective**: Introduce the essential Python libraries, **NumPy** and **Pandas**, that are commonly used for data handling and analysis."
   ]
  },
  {
   "cell_type": "markdown",
   "metadata": {},
   "source": [
    "\n",
    "\n",
    "### **1. Introduction to NumPy**\n",
    "#### **Concept**: What is NumPy?\n",
    "- **NumPy** is a library for numerical computations in Python. It provides support for working with arrays and includes \n",
    "functions for mathematical operations.\n",
    "\n",
    "#### **Installing and Importing NumPy**:\n",
    "1. **Install NumPy**:\n"
   ]
  },
  {
   "cell_type": "markdown",
   "metadata": {},
   "source": [
    "\n",
    "   - If needed, install NumPy by running:"
   ]
  },
  {
   "cell_type": "code",
   "execution_count": 2,
   "metadata": {},
   "outputs": [],
   "source": [
    "# !pip install numpy"
   ]
  },
  {
   "cell_type": "markdown",
   "metadata": {},
   "source": [
    "2. **Importing NumPy**:"
   ]
  },
  {
   "cell_type": "code",
   "execution_count": 3,
   "metadata": {},
   "outputs": [],
   "source": [
    "import numpy as np"
   ]
  },
  {
   "cell_type": "markdown",
   "metadata": {},
   "source": [
    "\n",
    "\n",
    "### **2. Working with NumPy Arrays**\n",
    "#### **Concept**: Creating and Manipulating Arrays\n",
    "- **Arrays** are the core data structure in NumPy, similar to lists but optimized for numerical computations.\n",
    "\n",
    "#### **Examples**:\n",
    "1. **Creating Arrays**:"
   ]
  },
  {
   "cell_type": "code",
   "execution_count": 4,
   "metadata": {},
   "outputs": [
    {
     "name": "stdout",
     "output_type": "stream",
     "text": [
      "[1 2 3 4 5]\n"
     ]
    }
   ],
   "source": [
    "# Creating a 1D array\n",
    "array1 = np.array([1, 2, 3, 4, 5])\n",
    "print(array1)"
   ]
  },
  {
   "cell_type": "markdown",
   "metadata": {},
   "source": [
    "\n",
    "2. **Array Operations**:\n",
    "   - Basic operations like addition and multiplication can be performed element-wise:"
   ]
  },
  {
   "cell_type": "code",
   "execution_count": 5,
   "metadata": {},
   "outputs": [
    {
     "name": "stdout",
     "output_type": "stream",
     "text": [
      "[11 22 33 44 55]\n",
      "[ 2  4  6  8 10]\n"
     ]
    }
   ],
   "source": [
    "array2 = np.array([10, 20, 30, 40, 50])\n",
    "\n",
    "print(array1 + array2)   # Output: [11 22 33 44 55]\n",
    "print(array1 * 2)        # Output: [ 2  4  6  8 10]"
   ]
  },
  {
   "cell_type": "markdown",
   "metadata": {},
   "source": [
    "3. **Array Statistics**:\n",
    "   - Students can use NumPy functions to calculate statistics such as mean, median, and standard deviation."
   ]
  },
  {
   "cell_type": "code",
   "execution_count": 6,
   "metadata": {},
   "outputs": [
    {
     "name": "stdout",
     "output_type": "stream",
     "text": [
      "3.0\n",
      "3.0\n",
      "1.4142135623730951\n"
     ]
    }
   ],
   "source": [
    "print(np.mean(array1))    # Output: 3.0\n",
    "print(np.median(array1))  # Output: 3.0\n",
    "print(np.std(array1))     # Output: 1.4142... "
   ]
  },
  {
   "cell_type": "markdown",
   "metadata": {},
   "source": [
    "\n",
    "\n",
    "#### **Hands-On Exercise**:\n",
    "- Load a dataset (CSV or Excel) containing information on students (e.g., name, age, scores, and grade level).\n",
    "Can you load the dataset into Pandas and display the first five rows?\n"
   ]
  },
  {
   "cell_type": "markdown",
   "metadata": {},
   "source": [
    "### **3. Introduction to Pandas**\n",
    "#### **Concept**: What is Pandas?\n",
    "- **Pandas** is a powerful library for data manipulation and analysis. It provides **DataFrames**, which are tabular data structures (like spreadsheets) with rows and columns.\n",
    "\n",
    "#### **Installing and Importing Pandas**:\n",
    "1. **Install Pandas**:"
   ]
  },
  {
   "cell_type": "code",
   "execution_count": 8,
   "metadata": {},
   "outputs": [],
   "source": [
    "#!pip install pandas"
   ]
  },
  {
   "cell_type": "markdown",
   "metadata": {},
   "source": [
    "\n",
    "2. **Importing Pandas**:\n"
   ]
  },
  {
   "cell_type": "code",
   "execution_count": 9,
   "metadata": {},
   "outputs": [],
   "source": [
    "import pandas as pd"
   ]
  },
  {
   "cell_type": "markdown",
   "metadata": {},
   "source": [
    "### **4. Creating and Manipulating DataFrames**\n",
    "#### **Concept**: Introduction to DataFrames\n",
    "- A **DataFrame** is a 2D structure where data is organized in rows and columns. Each column can have a different data type.\n",
    "\n",
    "#### **Examples**:\n",
    "1. **Creating a DataFrame from a Dictionary**:"
   ]
  },
  {
   "cell_type": "code",
   "execution_count": 11,
   "metadata": {},
   "outputs": [
    {
     "name": "stdout",
     "output_type": "stream",
     "text": [
      "      Name  Age         City\n",
      "0    Alice   25      Houston\n",
      "1      Bob   30  Los Angeles\n",
      "2  Charlie   35      Chicago\n"
     ]
    }
   ],
   "source": [
    "data = {\n",
    "    \"Name\": [\"Alice\", \"Bob\", \"Charlie\"],\n",
    "    \"Age\": [25, 30, 35],\n",
    "    \"City\": [\"Houston\", \"Los Angeles\", \"Chicago\"]\n",
    "}\n",
    "\n",
    "df = pd.DataFrame(data)\n",
    "print(df)"
   ]
  },
  {
   "cell_type": "markdown",
   "metadata": {},
   "source": [
    "2. **Accessing Columns and Rows**:\n",
    "   - Accessing columns by their names:"
   ]
  },
  {
   "cell_type": "code",
   "execution_count": 12,
   "metadata": {},
   "outputs": [
    {
     "name": "stdout",
     "output_type": "stream",
     "text": [
      "0      Alice\n",
      "1        Bob\n",
      "2    Charlie\n",
      "Name: Name, dtype: object\n"
     ]
    }
   ],
   "source": [
    "print(df[\"Name\"])    # Outputs the \"Name\" column"
   ]
  },
  {
   "cell_type": "markdown",
   "metadata": {},
   "source": [
    "   - Accessing rows by index:"
   ]
  },
  {
   "cell_type": "code",
   "execution_count": 13,
   "metadata": {},
   "outputs": [
    {
     "name": "stdout",
     "output_type": "stream",
     "text": [
      "Name      Alice\n",
      "Age          25\n",
      "City    Houston\n",
      "Name: 0, dtype: object\n"
     ]
    }
   ],
   "source": [
    "print(df.iloc[0])    # Outputs the first row"
   ]
  },
  {
   "cell_type": "markdown",
   "metadata": {},
   "source": [
    "3. **Basic DataFrame Operations**:\n",
    "   - Adding a new column:"
   ]
  },
  {
   "cell_type": "code",
   "execution_count": 14,
   "metadata": {},
   "outputs": [
    {
     "name": "stdout",
     "output_type": "stream",
     "text": [
      "      Name  Age         City  Salary\n",
      "0    Alice   25      Houston   70000\n",
      "1      Bob   30  Los Angeles   80000\n",
      "2  Charlie   35      Chicago   75000\n"
     ]
    }
   ],
   "source": [
    "df[\"Salary\"] = [70000, 80000, 75000]\n",
    "print(df)"
   ]
  },
  {
   "cell_type": "markdown",
   "metadata": {},
   "source": [
    "4. **Data Summary**:\n",
    "   - Getting a summary of the data:"
   ]
  },
  {
   "cell_type": "code",
   "execution_count": 19,
   "metadata": {},
   "outputs": [
    {
     "name": "stdout",
     "output_type": "stream",
     "text": [
      "        Age   Salary\n",
      "count   3.0      3.0\n",
      "mean   30.0  75000.0\n",
      "std     5.0   5000.0\n",
      "min    25.0  70000.0\n",
      "25%    27.5  72500.0\n",
      "50%    30.0  75000.0\n",
      "75%    32.5  77500.0\n",
      "max    35.0  80000.0\n",
      "--------\n",
      "\n",
      "<class 'pandas.core.frame.DataFrame'>\n",
      "RangeIndex: 3 entries, 0 to 2\n",
      "Data columns (total 4 columns):\n",
      " #   Column  Non-Null Count  Dtype \n",
      "---  ------  --------------  ----- \n",
      " 0   Name    3 non-null      object\n",
      " 1   Age     3 non-null      int64 \n",
      " 2   City    3 non-null      object\n",
      " 3   Salary  3 non-null      int64 \n",
      "dtypes: int64(2), object(2)\n",
      "memory usage: 224.0+ bytes\n",
      "None\n"
     ]
    }
   ],
   "source": [
    "print(df.describe())   # Output: Statistics of numerical columns\n",
    "print (f\"--------\\n\")\n",
    "print(df.info())       # Output: Info on DataFrame columns and data types"
   ]
  },
  {
   "cell_type": "markdown",
   "metadata": {},
   "source": [
    "\n",
    "\n",
    "#### **Hands-On Exercise**:\n",
    "- Create a DataFrame with three columns (e.g., Name, Score, and Grade) and add a new column for \"Class\".\n",
    "\n",
    "---"
   ]
  },
  {
   "cell_type": "markdown",
   "metadata": {},
   "source": [
    "### **5. Loading Data into Pandas**\n",
    "#### **Concept**: Loading External Data (CSV and Excel)\n",
    "- **CSV (Comma-Separated Values)** and **Excel** files are common data formats that Pandas can easily import for analysis.\n",
    "\n",
    "#### **Lets first make a csv file to work with:**"
   ]
  },
  {
   "cell_type": "code",
   "execution_count": 23,
   "metadata": {},
   "outputs": [
    {
     "name": "stdout",
     "output_type": "stream",
     "text": [
      "CSV file 'sample_data_week03.csv' created successfully.\n"
     ]
    }
   ],
   "source": [
    "import csv\n",
    "\n",
    "# Define data for the CSV file\n",
    "data = [\n",
    "    [\"Name\", \"Age\", \"City\", \"Salary\"],\n",
    "    [\"Alice\", 28, \"New York\", 70000],\n",
    "    [\"Bob\", 34, \"Los Angeles\", 85000],\n",
    "    [\"Charlie\", 25, \"Chicago\", 62000],\n",
    "    [\"Diana\", 30, \"Houston\", 76000],\n",
    "    [\"Eve\", 40, \"San Francisco\", 90000]\n",
    "]\n",
    "\n",
    "# Write data to a CSV file\n",
    "with open(\"Data/sample_data_week03.csv\", \"w\", newline=\"\") as file:\n",
    "    writer = csv.writer(file)\n",
    "    writer.writerows(data)\n",
    "\n",
    "print(\"CSV file 'sample_data_week03.csv' created successfully.\")\n"
   ]
  },
  {
   "cell_type": "markdown",
   "metadata": {},
   "source": [
    "\n",
    "#### **Examples**:\n",
    "1. **Loading a CSV File**:"
   ]
  },
  {
   "cell_type": "code",
   "execution_count": 24,
   "metadata": {},
   "outputs": [
    {
     "name": "stdout",
     "output_type": "stream",
     "text": [
      "      Name  Age           City  Salary\n",
      "0    Alice   28       New York   70000\n",
      "1      Bob   34    Los Angeles   85000\n",
      "2  Charlie   25        Chicago   62000\n",
      "3    Diana   30        Houston   76000\n",
      "4      Eve   40  San Francisco   90000\n"
     ]
    }
   ],
   "source": [
    "df = pd.read_csv(\"Data/sample_data_week03.csv\")\n",
    "print(df.head())   # Display the first five rows"
   ]
  },
  {
   "cell_type": "markdown",
   "metadata": {},
   "source": [
    "2. **Loading an Excel File**:\n",
    "#### **Lets first make a xlsx file to work with:**"
   ]
  },
  {
   "cell_type": "code",
   "execution_count": 26,
   "metadata": {},
   "outputs": [
    {
     "name": "stdout",
     "output_type": "stream",
     "text": [
      "\u001b[33mDEPRECATION: Configuring installation scheme with distutils config files is deprecated and will no longer work in the near future. If you are using a Homebrew or Linuxbrew Python, please see discussion at https://github.com/Homebrew/homebrew-core/issues/76621\u001b[0m\u001b[33m\n",
      "\u001b[0mCollecting openpyxl\n",
      "  Downloading openpyxl-3.1.5-py2.py3-none-any.whl.metadata (2.5 kB)\n",
      "Collecting et-xmlfile (from openpyxl)\n",
      "  Downloading et_xmlfile-2.0.0-py3-none-any.whl.metadata (2.7 kB)\n",
      "Downloading openpyxl-3.1.5-py2.py3-none-any.whl (250 kB)\n",
      "Downloading et_xmlfile-2.0.0-py3-none-any.whl (18 kB)\n",
      "Installing collected packages: et-xmlfile, openpyxl\n",
      "\u001b[33m  DEPRECATION: Configuring installation scheme with distutils config files is deprecated and will no longer work in the near future. If you are using a Homebrew or Linuxbrew Python, please see discussion at https://github.com/Homebrew/homebrew-core/issues/76621\u001b[0m\u001b[33m\n",
      "\u001b[0m\u001b[33m  DEPRECATION: Configuring installation scheme with distutils config files is deprecated and will no longer work in the near future. If you are using a Homebrew or Linuxbrew Python, please see discussion at https://github.com/Homebrew/homebrew-core/issues/76621\u001b[0m\u001b[33m\n",
      "\u001b[0m\u001b[33mDEPRECATION: Configuring installation scheme with distutils config files is deprecated and will no longer work in the near future. If you are using a Homebrew or Linuxbrew Python, please see discussion at https://github.com/Homebrew/homebrew-core/issues/76621\u001b[0m\u001b[33m\n",
      "\u001b[0mSuccessfully installed et-xmlfile-2.0.0 openpyxl-3.1.5\n"
     ]
    }
   ],
   "source": [
    "%pip install openpyxl"
   ]
  },
  {
   "cell_type": "code",
   "execution_count": 27,
   "metadata": {},
   "outputs": [
    {
     "name": "stdout",
     "output_type": "stream",
     "text": [
      "Excel file 'sample_data.xlsx' created successfully.\n"
     ]
    }
   ],
   "source": [
    "from openpyxl import Workbook\n",
    "\n",
    "# Create a workbook and select the active sheet\n",
    "wb = Workbook()\n",
    "sheet = wb.active\n",
    "sheet.title = \"Sheet1\"\n",
    "\n",
    "# Define data for the Excel file\n",
    "data = [\n",
    "    [\"Name\", \"Age\", \"City\", \"Salary\"],\n",
    "    [\"Alice\", 28, \"New York\", 70000],\n",
    "    [\"Bob\", 34, \"Los Angeles\", 85000],\n",
    "    [\"Charlie\", 25, \"Chicago\", 62000],\n",
    "    [\"Diana\", 30, \"Houston\", 76000],\n",
    "    [\"Eve\", 40, \"San Francisco\", 90000]\n",
    "]\n",
    "\n",
    "# Write data to the sheet\n",
    "for row in data:\n",
    "    sheet.append(row)\n",
    "\n",
    "# Save the workbook\n",
    "wb.save(\"Data/sample_data_week03.xlsx\")\n",
    "\n",
    "print(\"Excel file 'sample_data.xlsx' created successfully.\")\n"
   ]
  },
  {
   "cell_type": "code",
   "execution_count": 28,
   "metadata": {},
   "outputs": [
    {
     "name": "stdout",
     "output_type": "stream",
     "text": [
      "      Name  Age           City  Salary\n",
      "0    Alice   28       New York   70000\n",
      "1      Bob   34    Los Angeles   85000\n",
      "2  Charlie   25        Chicago   62000\n",
      "3    Diana   30        Houston   76000\n",
      "4      Eve   40  San Francisco   90000\n"
     ]
    }
   ],
   "source": [
    "df = pd.read_excel(\"Data/sample_data_week03.xlsx\", sheet_name=\"Sheet1\")\n",
    "print(df.head())"
   ]
  },
  {
   "cell_type": "markdown",
   "metadata": {},
   "source": [
    "#### **Hands-On Exercise**:\n",
    "- Provide a sample CSV file (or help them download one from the web), load it into Pandas, and display the first few rows."
   ]
  },
  {
   "cell_type": "markdown",
   "metadata": {},
   "source": [
    "### **6. Basic Data Cleaning in Pandas**\n",
    "#### **Concept**: Data Cleaning Basics (Renaming Columns, Handling Missing Values)\n",
    "\n",
    "#### **Examples**:\n",
    "1. **Renaming Columns**:\n",
    "   - To make column names more readable or standardized:"
   ]
  },
  {
   "cell_type": "code",
   "execution_count": 42,
   "metadata": {},
   "outputs": [
    {
     "name": "stdout",
     "output_type": "stream",
     "text": [
      "      Name   Age      City\n",
      "0    Alice  25.0  New York\n",
      "1      Bob  30.0      None\n",
      "2  Charlie   NaN   Chicago\n"
     ]
    }
   ],
   "source": [
    "df = pd.DataFrame({\n",
    "    \"name\": [\"Alice\", \"Bob\", \"Charlie\"],\n",
    "    \"age\": [25, 30, None],  # None represents a missing value\n",
    "    \"city\": [\"New York\", None, \"Chicago\"]\n",
    "})\n",
    "\n",
    "df.rename(columns={\"name\": \"Name\", \"age\": \"Age\", \"city\": \"City\"}, inplace=True)\n",
    "print(df)"
   ]
  },
  {
   "cell_type": "markdown",
   "metadata": {},
   "source": [
    "2. **Handling Missing Values**:\n",
    "   - Filling missing values with a specific value:"
   ]
  },
  {
   "cell_type": "code",
   "execution_count": 43,
   "metadata": {},
   "outputs": [
    {
     "name": "stdout",
     "output_type": "stream",
     "text": [
      "      Name   Age      City\n",
      "0    Alice  25.0  New York\n",
      "1      Bob  30.0      None\n",
      "2  Charlie  28.0   Chicago\n"
     ]
    }
   ],
   "source": [
    "df.fillna({\"Age\": 28}, inplace=True)\n",
    "#df[\"Age\"].fillna(28, inplace=True)   # Replace missing age with 28\n",
    "print(df)"
   ]
  },
  {
   "cell_type": "markdown",
   "metadata": {},
   "source": [
    "   - Dropping rows with missing values:"
   ]
  },
  {
   "cell_type": "code",
   "execution_count": 44,
   "metadata": {},
   "outputs": [
    {
     "name": "stdout",
     "output_type": "stream",
     "text": [
      "      Name   Age      City\n",
      "0    Alice  25.0  New York\n",
      "2  Charlie  28.0   Chicago\n"
     ]
    }
   ],
   "source": [
    "df.dropna(inplace=True)    # Removes rows with any missing values\n",
    "print(df)"
   ]
  },
  {
   "cell_type": "markdown",
   "metadata": {},
   "source": [
    "3. **Removing Duplicates**:\n",
    "   - Removing duplicate entries in the data:"
   ]
  },
  {
   "cell_type": "code",
   "execution_count": 45,
   "metadata": {},
   "outputs": [],
   "source": [
    "df = df.drop_duplicates()"
   ]
  },
  {
   "cell_type": "markdown",
   "metadata": {},
   "source": [
    "\n",
    "#### **Hands-On Exercise**:\n",
    "- Rename columns in a DataFrame, replace missing values in a column with a specified value, and remove duplicate rows."
   ]
  },
  {
   "cell_type": "markdown",
   "metadata": {},
   "source": [
    "\n",
    "\n",
    "### **7. Practical Example: Loading and Cleaning a Dataset**\n",
    "\n",
    "#### **Practical Assignment. Do the following step by step**:\n",
    "1. **Loading the Dataset**:\n",
    "   - Load a dataset (CSV or Excel) containing information on students (e.g., name, age, scores, and grade level)."
   ]
  },
  {
   "cell_type": "code",
   "execution_count": 46,
   "metadata": {},
   "outputs": [],
   "source": [
    " df = pd.read_csv(\"students_data.csv\")"
   ]
  },
  {
   "cell_type": "markdown",
   "metadata": {},
   "source": [
    "\n",
    "\n",
    "2. **Renaming Columns**:\n",
    "   - Standardize column names."
   ]
  },
  {
   "cell_type": "code",
   "execution_count": 47,
   "metadata": {},
   "outputs": [],
   "source": [
    "df.rename(columns={\"name\": \"Name\", \"score\": \"Score\"}, inplace=True)"
   ]
  },
  {
   "cell_type": "markdown",
   "metadata": {},
   "source": [
    "3. **Handling Missing Data**:\n",
    "   - Fill in missing ages with the average age:"
   ]
  },
  {
   "cell_type": "code",
   "execution_count": 49,
   "metadata": {},
   "outputs": [],
   "source": [
    "average_age = df[\"Age\"].mean()\n",
    "df.fillna({\"Age\": average_age}, inplace=True)\n",
    "#df[\"Age\"].fillna(average_age, inplace=True)"
   ]
  },
  {
   "cell_type": "markdown",
   "metadata": {},
   "source": [
    "4. **Removing Duplicates**:\n",
    "   - Remove duplicate student entries if any exist."
   ]
  },
  {
   "cell_type": "code",
   "execution_count": 50,
   "metadata": {},
   "outputs": [],
   "source": [
    "df = df.drop_duplicates()"
   ]
  },
  {
   "cell_type": "markdown",
   "metadata": {},
   "source": [
    "5. **Calculating Basic Statistics**:\n",
    "   - Calculate and print the average score:"
   ]
  },
  {
   "cell_type": "code",
   "execution_count": 52,
   "metadata": {},
   "outputs": [],
   "source": [
    "print(\"Average Score:\", df[\"Score\"].mean())"
   ]
  },
  {
   "cell_type": "markdown",
   "metadata": {},
   "source": [
    "\n",
    "\n",
    "#### **Hands-On Exercise**:\n",
    "- Load a dataset, rename at least two columns, fill in missing values for one column, and drop duplicates. Then, calculate the average of a chosen numerical column."
   ]
  },
  {
   "cell_type": "markdown",
   "metadata": {},
   "source": [
    "### **Recap of Week 3**:\n",
    "- **Key Concepts**: Arrays in NumPy; DataFrames in Pandas; loading, manipulating, and cleaning data.\n",
    "- **Practice**: By the end of the week, students should be able to load datasets, rename columns, handle missing values, and perform simple calculations."
   ]
  },
  {
   "cell_type": "markdown",
   "metadata": {},
   "source": []
  }
 ],
 "metadata": {
  "kernelspec": {
   "display_name": "Python 3",
   "language": "python",
   "name": "python3"
  },
  "language_info": {
   "codemirror_mode": {
    "name": "ipython",
    "version": 3
   },
   "file_extension": ".py",
   "mimetype": "text/x-python",
   "name": "python",
   "nbconvert_exporter": "python",
   "pygments_lexer": "ipython3",
   "version": "3.9.12"
  }
 },
 "nbformat": 4,
 "nbformat_minor": 2
}
