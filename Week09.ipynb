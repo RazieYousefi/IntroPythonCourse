{
 "cells": [
  {
   "cell_type": "markdown",
   "metadata": {},
   "source": [
    "### **Week 9: Statistical Data Analysis (Part II)**\n",
    "**Objective**: Deepen the understanding of hypothesis testing with advanced statistical methods such as ANOVA and interpreting confidence intervals. Students will learn to compare data across multiple groups and interpret their findings statistically."
   ]
  },
  {
   "cell_type": "markdown",
   "metadata": {},
   "source": [
    "### **1. Recap of t-tests**\n",
    "#### **Concept**: Reinforce the understanding of the different types of t-tests used to compare means in data."
   ]
  },
  {
   "cell_type": "markdown",
   "metadata": {},
   "source": [
    "#### **Topics & Key Concepts**:\n",
    "- **One-sample t-test**: Compare sample mean to a known or theoretical mean.\n",
    "- **Two-sample t-test**: Compare means of two independent groups.\n",
    "- **Paired t-test**: Compare means of two related groups (e.g., before and after treatment)."
   ]
  },
  {
   "cell_type": "markdown",
   "metadata": {},
   "source": [
    "#### **Examples**:\n",
    "1. **Paired t-test with Blood Pressure Data**:\n",
    "   - **Scenario**: Measuring blood pressure in a sample of patients before and after taking a medication."
   ]
  },
  {
   "cell_type": "code",
   "execution_count": 1,
   "metadata": {},
   "outputs": [
    {
     "name": "stdout",
     "output_type": "stream",
     "text": [
      "Paired t-test results: T-statistic = 3.98, P-value = 0.0004\n"
     ]
    }
   ],
   "source": [
    "from scipy import stats\n",
    "import numpy as np\n",
    "\n",
    "# Simulated blood pressure data (before and after medication)\n",
    "before = np.random.normal(loc=140, scale=12, size=30)\n",
    "after = np.random.normal(loc=130, scale=12, size=30)\n",
    "\n",
    "# Perform paired t-test\n",
    "t_stat, p_value = stats.ttest_rel(before, after)\n",
    "\n",
    "print(f\"Paired t-test results: T-statistic = {t_stat:.2f}, P-value = {p_value:.4f}\")"
   ]
  },
  {
   "cell_type": "markdown",
   "metadata": {},
   "source": [
    "**Explanation**: The test checks if the medication significantly lowered blood pressure."
   ]
  },
  {
   "cell_type": "markdown",
   "metadata": {},
   "source": [
    "#### **Hands-On Exercise**:\n",
    "- Perform a two-sample t-test to compare cholesterol levels between two patient groups: one on a new diet and another on a traditional diet.\n",
    "- Use a paired t-test to evaluate the effect of a treatment on glucose levels in a diabetic group before and after intervention.\n",
    "\n",
    "---"
   ]
  },
  {
   "cell_type": "markdown",
   "metadata": {},
   "source": [
    "\n",
    "### **2. ANOVA for Comparing Multiple Groups**\n",
    "#### **Concept**: ANOVA (Analysis of Variance) allows comparison of means across three or more groups to determine if there are any statistically significant differences.\n"
   ]
  },
  {
   "cell_type": "markdown",
   "metadata": {},
   "source": [
    "#### **Topics & Key Concepts**:\n",
    "- **What is ANOVA**: Test to identify differences among group means.\n",
    "- **When to Use ANOVA**: When comparing more than two groups.\n",
    "- **Types of ANOVA**:\n",
    "  - **One-way ANOVA**: One independent variable (e.g., comparing drug effects).\n",
    "  - **Two-way ANOVA**: Two independent variables (e.g., drug effect and gender)."
   ]
  },
  {
   "cell_type": "markdown",
   "metadata": {},
   "source": [
    "#### **Examples**:\n",
    "1. **One-way ANOVA with Plant Growth Data**:\n",
    "   - **Scenario**: Comparing the effects of three different fertilizers on plant growth."
   ]
  },
  {
   "cell_type": "code",
   "execution_count": 2,
   "metadata": {},
   "outputs": [
    {
     "name": "stdout",
     "output_type": "stream",
     "text": [
      "ANOVA results: F-statistic = 8.34, P-value = 0.0015\n"
     ]
    }
   ],
   "source": [
    "import pandas as pd\n",
    "import numpy as np\n",
    "from scipy import stats\n",
    "\n",
    "# Simulated dataset of plant height with three different fertilizers\n",
    "data = {\n",
    "    'Fertilizer': ['A'] * 10 + ['B'] * 10 + ['C'] * 10,\n",
    "    'Plant_Height': np.random.normal(25, 3, 10).tolist() + \n",
    "                    np.random.normal(30, 3, 10).tolist() + \n",
    "                    np.random.normal(28, 3, 10).tolist()\n",
    "}\n",
    "df = pd.DataFrame(data)\n",
    "\n",
    "# Perform one-way ANOVA\n",
    "f_stat, p_value = stats.f_oneway(df[df['Fertilizer'] == 'A']['Plant_Height'],\n",
    "                                df[df['Fertilizer'] == 'B']['Plant_Height'],\n",
    "                                df[df['Fertilizer'] == 'C']['Plant_Height'])\n",
    "\n",
    "print(f\"ANOVA results: F-statistic = {f_stat:.2f}, P-value = {p_value:.4f}\")"
   ]
  },
  {
   "cell_type": "markdown",
   "metadata": {},
   "source": [
    "**Explanation**: A significant result suggests that at least one fertilizer impacts growth differently."
   ]
  },
  {
   "cell_type": "markdown",
   "metadata": {},
   "source": [
    "#### **Hands-On Exercise**:\n",
    "- Perform a one-way ANOVA to compare glucose levels in three different patient groups receiving different treatments.\n",
    "- Compare the growth of bacteria in different chemical environments using ANOVA.\n",
    "\n",
    "---"
   ]
  },
  {
   "cell_type": "markdown",
   "metadata": {},
   "source": [
    "### **3. Confidence Intervals and Error Margins**\n",
    "#### **Concept**: Confidence intervals (CIs) provide a range of values that are likely to contain the true population parameter. They quantify the uncertainty of an estimate.\n"
   ]
  },
  {
   "cell_type": "markdown",
   "metadata": {},
   "source": [
    "#### **Topics & Key Concepts**:\n",
    "- **Definition of Confidence Interval**: Interpretation of a 95% confidence interval.\n",
    "- **Calculating CIs**: Use of mean, standard deviation, and sample size.\n",
    "- **Error Margins**: Understanding how error margins reflect data precision."
   ]
  },
  {
   "cell_type": "markdown",
   "metadata": {},
   "source": [
    "#### **Examples**:\n",
    "1. **Confidence Interval for Average Blood Sugar Level**:\n",
    "   - **Scenario**: Estimating the average blood sugar level in a sample."
   ]
  },
  {
   "cell_type": "code",
   "execution_count": 3,
   "metadata": {},
   "outputs": [
    {
     "name": "stdout",
     "output_type": "stream",
     "text": [
      "Mean Blood Sugar: 112.91 mg/dL\n",
      "95% Confidence Interval: (108.21, 117.62) mg/dL\n"
     ]
    }
   ],
   "source": [
    "import numpy as np\n",
    "import scipy.stats as stats\n",
    "\n",
    "# Sample blood sugar levels\n",
    "blood_sugar = np.random.normal(110, 15, size=50)\n",
    "\n",
    "# Calculate the 95% confidence interval\n",
    "mean = np.mean(blood_sugar)\n",
    "std_err = stats.sem(blood_sugar)  # Standard error\n",
    "ci = stats.t.interval(0.95, len(blood_sugar)-1, loc=mean, scale=std_err)\n",
    "\n",
    "print(f\"Mean Blood Sugar: {mean:.2f} mg/dL\")\n",
    "print(f\"95% Confidence Interval: ({ci[0]:.2f}, {ci[1]:.2f}) mg/dL\")"
   ]
  },
  {
   "cell_type": "markdown",
   "metadata": {},
   "source": [
    "**Explanation**: The CI shows the range within which the true average likely falls."
   ]
  },
  {
   "cell_type": "markdown",
   "metadata": {},
   "source": [
    "\n",
    "#### **Hands-On Exercise**:\n",
    "- Calculate the 95% confidence interval for the mean cholesterol levels of a patient sample.\n",
    "- Estimate the average protein concentration in a chemical experiment with a given dataset and find the confidence interval.\n",
    "\n",
    "---"
   ]
  },
  {
   "cell_type": "markdown",
   "metadata": {},
   "source": [
    "### **4. Practical Assignment**\n",
    "1. **Dataset Overview**:\n",
    "   - **Dataset**: Laboratory results comparing effects of three different supplements on heart health (cholesterol, blood pressure, glucose).\n",
    "   \n",
    "2. **Statistical Analysis**:\n",
    "   - *Perform a one-way ANOVA to compare the impact of supplements on cholesterol levels.*\n",
    "   - *Calculate and interpret the 95% confidence interval for each group's average cholesterol level.*\n",
    "\n",
    "3. **Report Findings**:\n",
    "   - *Interpret the results of the ANOVA. Are the differences significant?*\n",
    "   - *Explain what the confidence intervals tell about the group means.*\n",
    "\n",
    "4. **Presentation**:\n",
    "   - *Visualize the data using box plots and bar charts to summarize findings.*\n",
    "   - *Discuss which supplements show statistically significant differences and how the confidence intervals support the conclusions.*\n"
   ]
  },
  {
   "cell_type": "markdown",
   "metadata": {},
   "source": [
    "### **Week Recap**\n",
    "- **Concepts Mastered**: ANOVA for comparing multiple groups, confidence intervals, p-values, statistical significance.\n",
    "- **Skills Gained**: Ability to perform ANOVA, interpret confidence intervals, and apply statistical methods to real-world biology and chemistry datasets."
   ]
  }
 ],
 "metadata": {
  "kernelspec": {
   "display_name": "Python 3",
   "language": "python",
   "name": "python3"
  },
  "language_info": {
   "codemirror_mode": {
    "name": "ipython",
    "version": 3
   },
   "file_extension": ".py",
   "mimetype": "text/x-python",
   "name": "python",
   "nbconvert_exporter": "python",
   "pygments_lexer": "ipython3",
   "version": "3.9.12"
  }
 },
 "nbformat": 4,
 "nbformat_minor": 2
}
